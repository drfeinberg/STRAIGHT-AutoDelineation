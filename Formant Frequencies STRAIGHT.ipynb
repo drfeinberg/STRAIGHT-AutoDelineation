{
 "cells": [
  {
   "cell_type": "markdown",
   "metadata": {},
   "source": [
    "# Formant Frequencies"
   ]
  },
  {
   "cell_type": "markdown",
   "metadata": {},
   "source": [
    "# Measuring Formants"
   ]
  },
  {
   "cell_type": "markdown",
   "metadata": {},
   "source": [
    "## Import modules"
   ]
  },
  {
   "cell_type": "code",
   "execution_count": 27,
   "metadata": {},
   "outputs": [],
   "source": [
    "import parselmouth\n",
    "from parselmouth.praat import call\n",
    "from glob import glob\n",
    "import os\n",
    "import pandas as pd"
   ]
  },
  {
   "cell_type": "markdown",
   "metadata": {},
   "source": [
    "## Create list of files"
   ]
  },
  {
   "cell_type": "code",
   "execution_count": 28,
   "metadata": {},
   "outputs": [
    {
     "data": {
      "text/plain": [
       "['f1745_vowels1_10_u',\n",
       " 'f1745_vowels1_2_a',\n",
       " 'f1745_vowels1_4_i',\n",
       " 'f1745_vowels1_6_e',\n",
       " 'f1745_vowels1_8_o']"
      ]
     },
     "execution_count": 28,
     "metadata": {},
     "output_type": "execute_result"
    }
   ],
   "source": [
    "file_list = sorted(glob(\"/home/david/Sharing/fromant_check_for_averageness/new_voices/new_voices/*.wav\"))\n",
    "basename_list = [os.path.splitext(os.path.basename(filename))[0] for filename in file_list]\n",
    "basename_list[:5]"
   ]
  },
  {
   "cell_type": "markdown",
   "metadata": {},
   "source": [
    "## Load the sounds into Parselmouth-Praat"
   ]
  },
  {
   "cell_type": "code",
   "execution_count": 29,
   "metadata": {},
   "outputs": [
    {
     "data": {
      "text/plain": [
       "[<parselmouth.Sound at 0x7f4938e0da78>,\n",
       " <parselmouth.Sound at 0x7f4938e0dae8>,\n",
       " <parselmouth.Sound at 0x7f4938e0d1b8>,\n",
       " <parselmouth.Sound at 0x7f4938e0d768>,\n",
       " <parselmouth.Sound at 0x7f4938e0df80>]"
      ]
     },
     "execution_count": 29,
     "metadata": {},
     "output_type": "execute_result"
    }
   ],
   "source": [
    "sounds = [parselmouth.Sound(sound_file) for sound_file in file_list]\n",
    "sounds[:5]"
   ]
  },
  {
   "cell_type": "markdown",
   "metadata": {},
   "source": [
    "## Measure the formants"
   ]
  },
  {
   "cell_type": "markdown",
   "metadata": {},
   "source": [
    "### Analysis parameters matter\n",
    "- Maximum Formant\n",
    "    - This is the highest frequency a formant could be\n",
    "    - Children's voices - 7000 Hz, 8000 Hz\n",
    "    - Adult voices\n",
    "        - Lower pitched voices use 5000\n",
    "        - Higher pitched voices use 5500\n",
    "    - Our cutoff will be 170 Hz or about the average difference between female and male voice pitch"
   ]
  },
  {
   "cell_type": "markdown",
   "metadata": {},
   "source": [
    "### `if` the voice pitch is low, use `5000`; `elif` the voice pitch is high, use `5500`"
   ]
  },
  {
   "cell_type": "code",
   "execution_count": 30,
   "metadata": {},
   "outputs": [],
   "source": [
    "def measure_formants(sound):\n",
    "    pitch = sound.to_pitch()\n",
    "    mean_pitch = call(pitch, \"Get mean\", 0, 0, \"Hertz\")\n",
    "    if mean_pitch < 170:\n",
    "        max_formant = 5000\n",
    "    elif mean_pitch >= 170:\n",
    "        max_formant = 5500\n",
    "    else:\n",
    "        max_formant = 5500  # It's always good to have a fallback value just in case\n",
    "    formants = sound.to_formant_burg(maximum_formant=max_formant)\n",
    "    t0 = formants.xs()[0]\n",
    "    t1 = formants.xs()[-1]\n",
    "    t0_f1 = call(formants, \"Get value at time\", 1, formants.xs()[0], \"Hertz\", \"Linear\")\n",
    "    t1_f1 = call(formants, \"Get value at time\", 1, formants.xs()[1], \"Hertz\", \"Linear\")\n",
    "    t0_f2 = call(formants, \"Get value at time\", 2, formants.xs()[0], \"Hertz\", \"Linear\")\n",
    "    t1_f2 = call(formants, \"Get value at time\", 2, formants.xs()[1], \"Hertz\", \"Linear\")\n",
    "    t0_f3 = call(formants, \"Get value at time\", 3, formants.xs()[3], \"Hertz\", \"Linear\")\n",
    "    t1_f3 = call(formants, \"Get value at time\", 3, formants.xs()[3], \"Hertz\", \"Linear\")\n",
    "    t0_f4 = call(formants, \"Get value at time\", 4, formants.xs()[4], \"Hertz\", \"Linear\")\n",
    "    t1_f4 = call(formants, \"Get value at time\", 4, formants.xs()[4], \"Hertz\", \"Linear\")\n",
    "    return t0, t1, t0_f1, t1_f1, t0_f2, t1_f2, t0_f3, t1_f3, t0_f4, t1_f4\n"
   ]
  },
  {
   "cell_type": "markdown",
   "metadata": {},
   "source": [
    "## Take the first and last formant value for each file and save the times and values"
   ]
  },
  {
   "cell_type": "code",
   "execution_count": 31,
   "metadata": {},
   "outputs": [],
   "source": [
    "t0_list = []\n",
    "t1_list = []\n",
    "t0_f1_list = []\n",
    "t1_f1_list = []\n",
    "t0_f2_list = []\n",
    "t1_f2_list = []\n",
    "t0_f3_list = []\n",
    "t1_f3_list = []\n",
    "t0_f4_list = []\n",
    "t1_f4_list = []\n",
    "for sound in sounds:\n",
    "    t0, t1, t0_f1, t1_f1, t0_f2, t1_f2, t0_f3, t1_f3, t0_f4, t1_f4 = measure_formants(sound)\n",
    "    t0_list.append(t0)\n",
    "    t1_list.append(t1)\n",
    "    t0_f1_list.append(t0_f1)\n",
    "    t1_f1_list.append(t1_f1)\n",
    "    t0_f2_list.append(t0_f2)\n",
    "    t1_f2_list.append(t1_f2)\n",
    "    t0_f3_list.append(t0_f3)\n",
    "    t1_f3_list.append(t1_f3)\n",
    "    t0_f4_list.append(t0_f4)\n",
    "    t1_f4_list.append(t1_f4)"
   ]
  },
  {
   "cell_type": "markdown",
   "metadata": {},
   "source": [
    "## Put Data into Pandas Dataframe"
   ]
  },
  {
   "cell_type": "code",
   "execution_count": 32,
   "metadata": {},
   "outputs": [
    {
     "data": {
      "text/html": [
       "<div>\n",
       "<style scoped>\n",
       "    .dataframe tbody tr th:only-of-type {\n",
       "        vertical-align: middle;\n",
       "    }\n",
       "\n",
       "    .dataframe tbody tr th {\n",
       "        vertical-align: top;\n",
       "    }\n",
       "\n",
       "    .dataframe thead th {\n",
       "        text-align: right;\n",
       "    }\n",
       "</style>\n",
       "<table border=\"1\" class=\"dataframe\">\n",
       "  <thead>\n",
       "    <tr style=\"text-align: right;\">\n",
       "      <th></th>\n",
       "      <th>filename</th>\n",
       "      <th>file</th>\n",
       "      <th>t0</th>\n",
       "      <th>t1</th>\n",
       "      <th>t0_f1</th>\n",
       "      <th>t1_f1</th>\n",
       "      <th>t0_f2</th>\n",
       "      <th>t1_f2</th>\n",
       "      <th>t0_f3</th>\n",
       "      <th>t1_f3</th>\n",
       "      <th>t0_f4</th>\n",
       "      <th>t1_f4</th>\n",
       "    </tr>\n",
       "  </thead>\n",
       "  <tbody>\n",
       "    <tr>\n",
       "      <th>0</th>\n",
       "      <td>/home/david/Sharing/fromant_check_for_averagen...</td>\n",
       "      <td>f1745_vowels1_10_u</td>\n",
       "      <td>0.027304</td>\n",
       "      <td>0.264804</td>\n",
       "      <td>438.579902</td>\n",
       "      <td>440.953844</td>\n",
       "      <td>1723.094968</td>\n",
       "      <td>1732.432223</td>\n",
       "      <td>2844.683927</td>\n",
       "      <td>2844.683927</td>\n",
       "      <td>4092.216004</td>\n",
       "      <td>4092.216004</td>\n",
       "    </tr>\n",
       "    <tr>\n",
       "      <th>1</th>\n",
       "      <td>/home/david/Sharing/fromant_check_for_averagen...</td>\n",
       "      <td>f1745_vowels1_2_a</td>\n",
       "      <td>0.027188</td>\n",
       "      <td>0.477188</td>\n",
       "      <td>863.545806</td>\n",
       "      <td>1071.143501</td>\n",
       "      <td>1119.496634</td>\n",
       "      <td>1599.744732</td>\n",
       "      <td>3179.910418</td>\n",
       "      <td>3179.910418</td>\n",
       "      <td>4226.145260</td>\n",
       "      <td>4226.145260</td>\n",
       "    </tr>\n",
       "    <tr>\n",
       "      <th>2</th>\n",
       "      <td>/home/david/Sharing/fromant_check_for_averagen...</td>\n",
       "      <td>f1745_vowels1_4_i</td>\n",
       "      <td>0.027791</td>\n",
       "      <td>0.396541</td>\n",
       "      <td>403.092767</td>\n",
       "      <td>400.568539</td>\n",
       "      <td>2875.632138</td>\n",
       "      <td>2861.631604</td>\n",
       "      <td>3408.970651</td>\n",
       "      <td>3408.970651</td>\n",
       "      <td>4538.318689</td>\n",
       "      <td>4538.318689</td>\n",
       "    </tr>\n",
       "    <tr>\n",
       "      <th>3</th>\n",
       "      <td>/home/david/Sharing/fromant_check_for_averagen...</td>\n",
       "      <td>f1745_vowels1_6_e</td>\n",
       "      <td>0.025540</td>\n",
       "      <td>0.419290</td>\n",
       "      <td>647.188563</td>\n",
       "      <td>658.624367</td>\n",
       "      <td>2463.562471</td>\n",
       "      <td>2341.635741</td>\n",
       "      <td>2649.369488</td>\n",
       "      <td>2649.369488</td>\n",
       "      <td>3151.429867</td>\n",
       "      <td>3151.429867</td>\n",
       "    </tr>\n",
       "    <tr>\n",
       "      <th>4</th>\n",
       "      <td>/home/david/Sharing/fromant_check_for_averagen...</td>\n",
       "      <td>f1745_vowels1_8_o</td>\n",
       "      <td>0.026372</td>\n",
       "      <td>0.376372</td>\n",
       "      <td>617.545641</td>\n",
       "      <td>626.335264</td>\n",
       "      <td>1048.296424</td>\n",
       "      <td>1006.562101</td>\n",
       "      <td>2953.308545</td>\n",
       "      <td>2953.308545</td>\n",
       "      <td>3925.155273</td>\n",
       "      <td>3925.155273</td>\n",
       "    </tr>\n",
       "  </tbody>\n",
       "</table>\n",
       "</div>"
      ],
      "text/plain": [
       "                                            filename                file  \\\n",
       "0  /home/david/Sharing/fromant_check_for_averagen...  f1745_vowels1_10_u   \n",
       "1  /home/david/Sharing/fromant_check_for_averagen...   f1745_vowels1_2_a   \n",
       "2  /home/david/Sharing/fromant_check_for_averagen...   f1745_vowels1_4_i   \n",
       "3  /home/david/Sharing/fromant_check_for_averagen...   f1745_vowels1_6_e   \n",
       "4  /home/david/Sharing/fromant_check_for_averagen...   f1745_vowels1_8_o   \n",
       "\n",
       "         t0        t1       t0_f1        t1_f1        t0_f2        t1_f2  \\\n",
       "0  0.027304  0.264804  438.579902   440.953844  1723.094968  1732.432223   \n",
       "1  0.027188  0.477188  863.545806  1071.143501  1119.496634  1599.744732   \n",
       "2  0.027791  0.396541  403.092767   400.568539  2875.632138  2861.631604   \n",
       "3  0.025540  0.419290  647.188563   658.624367  2463.562471  2341.635741   \n",
       "4  0.026372  0.376372  617.545641   626.335264  1048.296424  1006.562101   \n",
       "\n",
       "         t0_f3        t1_f3        t0_f4        t1_f4  \n",
       "0  2844.683927  2844.683927  4092.216004  4092.216004  \n",
       "1  3179.910418  3179.910418  4226.145260  4226.145260  \n",
       "2  3408.970651  3408.970651  4538.318689  4538.318689  \n",
       "3  2649.369488  2649.369488  3151.429867  3151.429867  \n",
       "4  2953.308545  2953.308545  3925.155273  3925.155273  "
      ]
     },
     "execution_count": 32,
     "metadata": {},
     "output_type": "execute_result"
    }
   ],
   "source": [
    "df = pd.DataFrame({\n",
    "    \"filename\":file_list,\n",
    "    \"file\": basename_list,\n",
    "    \"t0\":t0_list,\n",
    "    \"t1\":t1_list,\n",
    "    \"t0_f1\":t0_f1_list,\n",
    "    \"t1_f1\":t1_f1_list,\n",
    "    \"t0_f2\":t0_f2_list,\n",
    "    \"t1_f2\":t1_f2_list,\n",
    "    \"t0_f3\":t0_f3_list,\n",
    "    \"t1_f3\":t1_f3_list,\n",
    "    \"t0_f4\":t0_f4_list,\n",
    "    \"t1_f4\":t1_f4_list,\n",
    "})\n",
    "df.head()"
   ]
  },
  {
   "cell_type": "markdown",
   "metadata": {},
   "source": [
    "## Save Data"
   ]
  },
  {
   "cell_type": "code",
   "execution_count": 33,
   "metadata": {},
   "outputs": [],
   "source": [
    "df.to_csv('/home/david/Sharing/fromant_check_for_averageness/new_voices/new_voices/formant_measures_straight.csv', index=0)"
   ]
  }
 ],
 "metadata": {
  "kernelspec": {
   "display_name": "Python 3",
   "language": "python",
   "name": "python3"
  },
  "language_info": {
   "codemirror_mode": {
    "name": "ipython",
    "version": 3
   },
   "file_extension": ".py",
   "mimetype": "text/x-python",
   "name": "python",
   "nbconvert_exporter": "python",
   "pygments_lexer": "ipython3",
   "version": "3.7.0"
  },
  "varInspector": {
   "cols": {
    "lenName": 16,
    "lenType": 16,
    "lenVar": 40
   },
   "kernels_config": {
    "python": {
     "delete_cmd_postfix": "",
     "delete_cmd_prefix": "del ",
     "library": "var_list.py",
     "varRefreshCmd": "print(var_dic_list())"
    },
    "r": {
     "delete_cmd_postfix": ") ",
     "delete_cmd_prefix": "rm(",
     "library": "var_list.r",
     "varRefreshCmd": "cat(var_dic_list()) "
    }
   },
   "types_to_exclude": [
    "module",
    "function",
    "builtin_function_or_method",
    "instance",
    "_Feature"
   ],
   "window_display": false
  }
 },
 "nbformat": 4,
 "nbformat_minor": 2
}
